{
 "cells": [
  {
   "cell_type": "markdown",
   "metadata": {},
   "source": [
    "# 6. Deep Learning Neural Network"
   ]
  },
  {
   "cell_type": "code",
   "execution_count": 80,
   "metadata": {},
   "outputs": [],
   "source": [
    "from keras.models import Sequential\n",
    "from keras.layers import Conv2D, MaxPooling2D, Flatten, Dense\n",
    "from keras import Input\n",
    "from keras.utils import np_utils\n",
    "from keras.datasets import mnist\n",
    "\n",
    "import numpy as np"
   ]
  },
  {
   "cell_type": "markdown",
   "metadata": {},
   "source": [
    "## Neuron Network"
   ]
  },
  {
   "cell_type": "markdown",
   "metadata": {},
   "source": [
    "### 1. Create a model\n",
    "\n",
    "- Create a model as a sequential model\n",
    "- Defining the number of neuron in each layer and activation function"
   ]
  },
  {
   "cell_type": "code",
   "execution_count": 61,
   "metadata": {},
   "outputs": [
    {
     "name": "stdout",
     "output_type": "stream",
     "text": [
      "Model: \"sequential_3\"\n",
      "_________________________________________________________________\n",
      "Layer (type)                 Output Shape              Param #   \n",
      "=================================================================\n",
      "dense_6 (Dense)              (None, 32)                25120     \n",
      "_________________________________________________________________\n",
      "dense_7 (Dense)              (None, 10)                330       \n",
      "=================================================================\n",
      "Total params: 25,450\n",
      "Trainable params: 25,450\n",
      "Non-trainable params: 0\n",
      "_________________________________________________________________\n"
     ]
    }
   ],
   "source": [
    "# Model / data parameter\n",
    "num_classes = 10\n",
    "input_shape = (784)\n",
    "\n",
    "model = Sequential(\n",
    "    [\n",
    "        Input(shape=input_shape),\n",
    "        Dense(32, activation='relu'),\n",
    "        Dense(10, activation='softmax')\n",
    "    ]\n",
    ")\n",
    "model.summary()\n"
   ]
  },
  {
   "cell_type": "markdown",
   "metadata": {},
   "source": [
    "#### Model parameters\n",
    "\n",
    "- 1<sup>st</sup> layer: (784 + 1) * 32 = 25,120\n",
    "- 2<sup>nd</sup> layer: (32 + 1) * 10 = 330\n",
    "- Total parameter: 25,450\n"
   ]
  },
  {
   "cell_type": "markdown",
   "metadata": {},
   "source": [
    "### 2. Compile a model\n",
    "\n",
    "- Setting optimizer\n",
    "  - `adam`, `SGD`, `rmsprop`, etc\n",
    "- Setting loss function\n",
    "  - `mean_squared_error`, `mean_absolute_error`, `categorical_crossentropy`, etc\n",
    "- Setting evaluation metric"
   ]
  },
  {
   "cell_type": "code",
   "execution_count": 69,
   "metadata": {},
   "outputs": [],
   "source": [
    "model.compile(loss=\"categorical_crossentropy\",\n",
    "              optimizer=\"adam\", metrics=[\"accuracy\"])\n"
   ]
  },
  {
   "cell_type": "markdown",
   "metadata": {},
   "source": [
    "### 3. Training a model\n",
    "\n",
    "- Load MNIST data\n",
    "- Traning data (60k) + Testing data (10k)\n",
    "- Convert from 28x28 pixel to 784 one dimensional vector"
   ]
  },
  {
   "cell_type": "code",
   "execution_count": 72,
   "metadata": {},
   "outputs": [
    {
     "name": "stdout",
     "output_type": "stream",
     "text": [
      "x_train shape: (60000, 784)\n",
      "60000 train samples\n",
      "60000 test samples\n"
     ]
    }
   ],
   "source": [
    "# the data, split between train and test sets\n",
    "(X_train, y_train), (X_test, y_test) = mnist.load_data()\n",
    "\n",
    "# Scale images to the [0, 1] range\n",
    "X_train = X_train.astype(\"float32\") / 255\n",
    "X_test = X_test.astype(\"float32\") / 255\n",
    "\n",
    "# Convert from (28, 28) to (784)\n",
    "X_train = X_train.reshape(60000, 784)\n",
    "X_test = X_test.reshape(10000, 784)\n",
    "\n",
    "# Make sure images have shape (784)\n",
    "print(\"x_train shape:\", X_train.shape)\n",
    "print(X_train.shape[0], \"train samples\")\n",
    "print(X_train.shape[0], \"test samples\")\n",
    "\n",
    "\n",
    "# Convert class vectors to binary class matrices\n",
    "y_train = np_utils.to_categorical(y_train, num_classes)\n",
    "y_test = np_utils.to_categorical(y_test, num_classes)\n"
   ]
  },
  {
   "cell_type": "code",
   "execution_count": 65,
   "metadata": {},
   "outputs": [
    {
     "name": "stdout",
     "output_type": "stream",
     "text": [
      "Epoch 1/15\n",
      "422/422 [==============================] - 1s 1ms/step - loss: 0.5400 - accuracy: 0.8523 - val_loss: 0.2440 - val_accuracy: 0.9340\n",
      "Epoch 2/15\n",
      "422/422 [==============================] - 0s 1ms/step - loss: 0.2717 - accuracy: 0.9245 - val_loss: 0.1961 - val_accuracy: 0.9472\n",
      "Epoch 3/15\n",
      "422/422 [==============================] - 0s 1ms/step - loss: 0.2245 - accuracy: 0.9366 - val_loss: 0.1725 - val_accuracy: 0.9522\n",
      "Epoch 4/15\n",
      "422/422 [==============================] - 0s 1ms/step - loss: 0.1930 - accuracy: 0.9454 - val_loss: 0.1479 - val_accuracy: 0.9598\n",
      "Epoch 5/15\n",
      "422/422 [==============================] - 0s 1ms/step - loss: 0.1675 - accuracy: 0.9523 - val_loss: 0.1393 - val_accuracy: 0.9600\n",
      "Epoch 6/15\n",
      "422/422 [==============================] - 0s 1ms/step - loss: 0.1493 - accuracy: 0.9574 - val_loss: 0.1308 - val_accuracy: 0.9638\n",
      "Epoch 7/15\n",
      "422/422 [==============================] - 0s 1ms/step - loss: 0.1346 - accuracy: 0.9617 - val_loss: 0.1215 - val_accuracy: 0.9648\n",
      "Epoch 8/15\n",
      "422/422 [==============================] - 0s 1ms/step - loss: 0.1232 - accuracy: 0.9646 - val_loss: 0.1203 - val_accuracy: 0.9648\n",
      "Epoch 9/15\n",
      "422/422 [==============================] - 0s 1ms/step - loss: 0.1129 - accuracy: 0.9669 - val_loss: 0.1164 - val_accuracy: 0.9673\n",
      "Epoch 10/15\n",
      "422/422 [==============================] - 0s 1ms/step - loss: 0.1050 - accuracy: 0.9693 - val_loss: 0.1121 - val_accuracy: 0.9663\n",
      "Epoch 11/15\n",
      "422/422 [==============================] - 0s 1ms/step - loss: 0.0982 - accuracy: 0.9709 - val_loss: 0.1108 - val_accuracy: 0.9673\n",
      "Epoch 12/15\n",
      "422/422 [==============================] - 0s 1ms/step - loss: 0.0916 - accuracy: 0.9727 - val_loss: 0.1123 - val_accuracy: 0.9672\n",
      "Epoch 13/15\n",
      "422/422 [==============================] - 0s 1ms/step - loss: 0.0865 - accuracy: 0.9747 - val_loss: 0.1084 - val_accuracy: 0.9678\n",
      "Epoch 14/15\n",
      "422/422 [==============================] - 0s 1ms/step - loss: 0.0813 - accuracy: 0.9763 - val_loss: 0.1099 - val_accuracy: 0.9685\n",
      "Epoch 15/15\n",
      "422/422 [==============================] - 0s 1ms/step - loss: 0.0767 - accuracy: 0.9775 - val_loss: 0.1090 - val_accuracy: 0.9685\n"
     ]
    },
    {
     "data": {
      "text/plain": [
       "<keras.callbacks.History at 0x7fb9151dc190>"
      ]
     },
     "execution_count": 65,
     "metadata": {},
     "output_type": "execute_result"
    }
   ],
   "source": [
    "batch_size = 128\n",
    "epochs = 15\n",
    "\n",
    "model.fit(X_train, y_train, batch_size=batch_size,\n",
    "          epochs=epochs, verbose=1, validation_split=.1)\n"
   ]
  },
  {
   "cell_type": "markdown",
   "metadata": {},
   "source": [
    "### 4. Evaluate the trained model"
   ]
  },
  {
   "cell_type": "code",
   "execution_count": 66,
   "metadata": {},
   "outputs": [
    {
     "name": "stdout",
     "output_type": "stream",
     "text": [
      "Test loss: 0.11342188715934753\n",
      "Test accuracy: 0.9668999910354614\n"
     ]
    }
   ],
   "source": [
    "score = model.evaluate(X_test, y_test, verbose=0)\n",
    "print(\"Test loss:\", score[0])\n",
    "print(\"Test accuracy:\", score[1])\n"
   ]
  },
  {
   "cell_type": "markdown",
   "metadata": {},
   "source": [
    "## Convolutional Neuron Network (CNN)"
   ]
  },
  {
   "cell_type": "markdown",
   "metadata": {},
   "source": [
    "### 1. Create a model"
   ]
  },
  {
   "cell_type": "code",
   "execution_count": 79,
   "metadata": {},
   "outputs": [
    {
     "name": "stdout",
     "output_type": "stream",
     "text": [
      "Model: \"sequential_6\"\n",
      "_________________________________________________________________\n",
      "Layer (type)                 Output Shape              Param #   \n",
      "=================================================================\n",
      "conv2d_6 (Conv2D)            (None, 26, 26, 32)        320       \n",
      "_________________________________________________________________\n",
      "max_pooling2d_6 (MaxPooling2 (None, 13, 13, 32)        0         \n",
      "_________________________________________________________________\n",
      "conv2d_7 (Conv2D)            (None, 11, 11, 32)        9248      \n",
      "_________________________________________________________________\n",
      "max_pooling2d_7 (MaxPooling2 (None, 5, 5, 32)          0         \n",
      "_________________________________________________________________\n",
      "flatten_3 (Flatten)          (None, 800)               0         \n",
      "_________________________________________________________________\n",
      "dense_12 (Dense)             (None, 64)                51264     \n",
      "_________________________________________________________________\n",
      "dense_13 (Dense)             (None, 10)                650       \n",
      "=================================================================\n",
      "Total params: 61,482\n",
      "Trainable params: 61,482\n",
      "Non-trainable params: 0\n",
      "_________________________________________________________________\n"
     ]
    }
   ],
   "source": [
    "# Model / data parameters\n",
    "num_classes = 10\n",
    "input_shape = (28, 28, 1)\n",
    "\n",
    "\n",
    "cnn_model = Sequential(\n",
    "    [\n",
    "        Input(shape=input_shape),\n",
    "        Conv2D(32, kernel_size=(3, 3), activation=\"relu\"),\n",
    "        MaxPooling2D(pool_size=(2, 2)),\n",
    "        Conv2D(32, kernel_size=(3, 3), activation=\"relu\"),\n",
    "        MaxPooling2D(pool_size=(2, 2)),\n",
    "        Flatten(),\n",
    "        Dense(64, activation='relu'),\n",
    "        Dense(num_classes, activation=\"softmax\"),\n",
    "    ]\n",
    ")\n",
    "\n",
    "cnn_model.summary()\n"
   ]
  },
  {
   "cell_type": "markdown",
   "metadata": {},
   "source": [
    "### 2. Complie a model"
   ]
  },
  {
   "cell_type": "code",
   "execution_count": 84,
   "metadata": {},
   "outputs": [],
   "source": [
    "cnn_model.compile(loss=\"categorical_crossentropy\",\n",
    "              optimizer=\"adam\", metrics=[\"accuracy\"])"
   ]
  },
  {
   "cell_type": "markdown",
   "metadata": {},
   "source": [
    "### 3. Training a model\n",
    "\n",
    "- Load MNIST data\n",
    "- Traning data (60k) + Testing data (10k)"
   ]
  },
  {
   "cell_type": "code",
   "execution_count": 82,
   "metadata": {},
   "outputs": [
    {
     "name": "stdout",
     "output_type": "stream",
     "text": [
      "x_train shape: (60000, 28, 28, 1)\n",
      "60000 train samples\n",
      "60000 test samples\n"
     ]
    }
   ],
   "source": [
    "# the data, split between train and test sets\n",
    "(X_train, y_train), (X_test, y_test) = mnist.load_data()\n",
    "\n",
    "# Scale images to the [0, 1] range\n",
    "X_train = X_train.astype(\"float32\") / 255\n",
    "X_test = X_test.astype(\"float32\") / 255\n",
    "\n",
    "# Make sure images have shape (28, 28, 1)\n",
    "X_train = np.expand_dims(X_train, -1)\n",
    "X_test = np.expand_dims(X_test, -1)\n",
    "print(\"x_train shape:\", X_train.shape)\n",
    "print(X_train.shape[0], \"train samples\")\n",
    "print(X_train.shape[0], \"test samples\")\n",
    "\n",
    "\n",
    "# Convert class vectors to binary class matrices\n",
    "y_train = np_utils.to_categorical(y_train, num_classes)\n",
    "y_test = np_utils.to_categorical(y_test, num_classes)\n"
   ]
  },
  {
   "cell_type": "code",
   "execution_count": 85,
   "metadata": {},
   "outputs": [
    {
     "name": "stdout",
     "output_type": "stream",
     "text": [
      "Epoch 1/15\n",
      "422/422 [==============================] - 17s 40ms/step - loss: 0.3123 - accuracy: 0.9106 - val_loss: 0.0941 - val_accuracy: 0.9738\n",
      "Epoch 2/15\n",
      "422/422 [==============================] - 17s 40ms/step - loss: 0.0858 - accuracy: 0.9733 - val_loss: 0.0608 - val_accuracy: 0.9842\n",
      "Epoch 3/15\n",
      "422/422 [==============================] - 18s 42ms/step - loss: 0.0617 - accuracy: 0.9806 - val_loss: 0.0492 - val_accuracy: 0.9867\n",
      "Epoch 4/15\n",
      "422/422 [==============================] - 17s 41ms/step - loss: 0.0503 - accuracy: 0.9844 - val_loss: 0.0457 - val_accuracy: 0.9877\n",
      "Epoch 5/15\n",
      "422/422 [==============================] - 17s 41ms/step - loss: 0.0416 - accuracy: 0.9869 - val_loss: 0.0426 - val_accuracy: 0.9863\n",
      "Epoch 6/15\n",
      "422/422 [==============================] - 18s 41ms/step - loss: 0.0357 - accuracy: 0.9890 - val_loss: 0.0396 - val_accuracy: 0.9887\n",
      "Epoch 7/15\n",
      "422/422 [==============================] - 19s 45ms/step - loss: 0.0308 - accuracy: 0.9904 - val_loss: 0.0344 - val_accuracy: 0.9905\n",
      "Epoch 8/15\n",
      "422/422 [==============================] - 17s 41ms/step - loss: 0.0264 - accuracy: 0.9918 - val_loss: 0.0394 - val_accuracy: 0.9890\n",
      "Epoch 9/15\n",
      "422/422 [==============================] - 16s 38ms/step - loss: 0.0237 - accuracy: 0.9929 - val_loss: 0.0413 - val_accuracy: 0.9880\n",
      "Epoch 10/15\n",
      "422/422 [==============================] - 17s 39ms/step - loss: 0.0210 - accuracy: 0.9934 - val_loss: 0.0410 - val_accuracy: 0.9892\n",
      "Epoch 11/15\n",
      "422/422 [==============================] - 16s 38ms/step - loss: 0.0174 - accuracy: 0.9944 - val_loss: 0.0393 - val_accuracy: 0.9898\n",
      "Epoch 12/15\n",
      "422/422 [==============================] - 18s 42ms/step - loss: 0.0150 - accuracy: 0.9956 - val_loss: 0.0408 - val_accuracy: 0.9897\n",
      "Epoch 13/15\n",
      "422/422 [==============================] - 17s 41ms/step - loss: 0.0141 - accuracy: 0.9953 - val_loss: 0.0339 - val_accuracy: 0.9910\n",
      "Epoch 14/15\n",
      "422/422 [==============================] - 18s 42ms/step - loss: 0.0117 - accuracy: 0.9958 - val_loss: 0.0381 - val_accuracy: 0.9905\n",
      "Epoch 15/15\n",
      "422/422 [==============================] - 15s 36ms/step - loss: 0.0102 - accuracy: 0.9963 - val_loss: 0.0506 - val_accuracy: 0.9882\n"
     ]
    },
    {
     "data": {
      "text/plain": [
       "<keras.callbacks.History at 0x7fb9162c98b0>"
      ]
     },
     "execution_count": 85,
     "metadata": {},
     "output_type": "execute_result"
    }
   ],
   "source": [
    "batch_size = 128\n",
    "epochs = 15\n",
    "\n",
    "cnn_model.fit(X_train, y_train, batch_size=batch_size,\n",
    "          epochs=epochs, verbose=1, validation_split=.1)\n"
   ]
  },
  {
   "cell_type": "markdown",
   "metadata": {},
   "source": [
    "### 4. Evaluate the trained model"
   ]
  },
  {
   "cell_type": "code",
   "execution_count": 86,
   "metadata": {},
   "outputs": [
    {
     "name": "stdout",
     "output_type": "stream",
     "text": [
      "Test loss: 0.04123755171895027\n",
      "Test accuracy: 0.9883999824523926\n"
     ]
    }
   ],
   "source": [
    "score = cnn_model.evaluate(X_test, y_test, verbose=0)\n",
    "print(\"Test loss:\", score[0])\n",
    "print(\"Test accuracy:\", score[1])\n"
   ]
  },
  {
   "cell_type": "code",
   "execution_count": null,
   "metadata": {},
   "outputs": [],
   "source": []
  }
 ],
 "metadata": {
  "interpreter": {
   "hash": "537eb0b9ab41e35305ac70be8380de5b6e6ad4466bdb4dd5f41276d259677184"
  },
  "kernelspec": {
   "display_name": "Python 3.10.0 64-bit ('py4ai': conda)",
   "name": "python3"
  },
  "language_info": {
   "codemirror_mode": {
    "name": "ipython",
    "version": 3
   },
   "file_extension": ".py",
   "mimetype": "text/x-python",
   "name": "python",
   "nbconvert_exporter": "python",
   "pygments_lexer": "ipython3",
   "version": "3.9.7"
  },
  "orig_nbformat": 4
 },
 "nbformat": 4,
 "nbformat_minor": 2
}
